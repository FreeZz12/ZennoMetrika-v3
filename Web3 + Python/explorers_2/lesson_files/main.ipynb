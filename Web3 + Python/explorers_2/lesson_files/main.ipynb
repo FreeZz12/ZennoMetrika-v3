{
 "cells": [
  {
   "cell_type": "markdown",
   "metadata": {},
   "source": [
    "\n",
    "Получение хеша события (топик):\n",
    "\n",
    "```Permit (index_topic_1 address owner, index_topic_2 address token, index_topic_3 address spender, uint160 amount, uint48 expiration, uint48 nonce)```\n",
    "\n",
    "Удаляем пробелы и названия данных, только название события и типы аргументов"
   ]
  },
  {
   "cell_type": "code",
   "execution_count": 68,
   "metadata": {},
   "outputs": [
    {
     "name": "stdout",
     "output_type": "stream",
     "text": [
      "topic='c6a377bfc4eb120024a8ac08eef205be16b817020812c73223e81d1bdb9708ec' - event_signature='Permit(address,address,address,uint160,uint48,uint48)'\n"
     ]
    }
   ],
   "source": [
    "from eth_utils.crypto import keccak\n",
    "\n",
    "event_signature = 'Permit(address,address,address,uint160,uint48,uint48)'\n",
    "topic = keccak(text=event_signature).hex()\n",
    "print(f'{topic=} - {event_signature=}')"
   ]
  },
  {
   "cell_type": "markdown",
   "metadata": {},
   "source": [
    "Получение номера блока по временной метке:"
   ]
  },
  {
   "cell_type": "code",
   "execution_count": 69,
   "metadata": {},
   "outputs": [
    {
     "name": "stdout",
     "output_type": "stream",
     "text": [
      "22235862\n"
     ]
    }
   ],
   "source": [
    "from time import time\n",
    "import requests\n",
    "from config import config\n",
    "\n",
    "timestamp = time()\n",
    "timestamp = int(timestamp - 60 * 60)\n",
    "\n",
    "url = 'https://api.etherscan.io/v2/api'\n",
    "\n",
    "params = {\n",
    "    'chainid': 1,\n",
    "    'module': 'block',\n",
    "    'action': 'getblocknobytime',\n",
    "    'timestamp': timestamp,\n",
    "    'closest': 'before',\n",
    "    'apikey': config.ETHERSCAN_API_KEY\n",
    "}\n",
    "\n",
    "response = requests.get(url, params=params)\n",
    "block = response.json()['result']\n",
    "print(block)\n"
   ]
  }
 ],
 "metadata": {
  "kernelspec": {
   "display_name": "venv",
   "language": "python",
   "name": "python3"
  },
  "language_info": {
   "codemirror_mode": {
    "name": "ipython",
    "version": 3
   },
   "file_extension": ".py",
   "mimetype": "text/x-python",
   "name": "python",
   "nbconvert_exporter": "python",
   "pygments_lexer": "ipython3",
   "version": "3.11.7"
  }
 },
 "nbformat": 4,
 "nbformat_minor": 2
}
