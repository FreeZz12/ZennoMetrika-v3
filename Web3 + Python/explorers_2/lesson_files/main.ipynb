{
 "cells": [
  {
   "cell_type": "markdown",
   "metadata": {},
   "source": [
    "Получение хеша эвента (топик)\n",
    "Permit (index_topic_1 address owner, index_topic_2 address token, index_topic_3 address spender, uint160 amount, uint48 expiration, uint48 nonce)View Source\n"
   ]
  },
  {
   "cell_type": "code",
   "execution_count": 1,
   "metadata": {},
   "outputs": [
    {
     "name": "stdout",
     "output_type": "stream",
     "text": [
      "c6a377bfc4eb120024a8ac08eef205be16b817020812c73223e81d1bdb9708ec\n"
     ]
    }
   ],
   "source": [
    "from eth_utils.crypto import keccak\n",
    "\n",
    "event_signature = 'Permit(address,address,address,uint160,uint48,uint48)'\n",
    "topic = keccak(text=event_signature).hex()\n",
    "print(topic)"
   ]
  },
  {
   "cell_type": "code",
   "execution_count": 2,
   "metadata": {},
   "outputs": [],
   "source": [
    "import requests\n",
    "from config import config\n",
    "\n",
    "url = 'https://api.etherscan.io/v2/api'\n",
    "\n",
    "params = {\n",
    "    'chainid': 1,\n",
    "    'module': 'logs',\n",
    "    'action': 'getLogs',\n",
    "    'address': '0x66a9893cC07D91D95644AEDD05D03f95e1dBA8Af',\n",
    "    'topic0': topic,\n",
    "    'apikey': config.ETHERSCAN_API_KEY\n",
    "}\n",
    "\n",
    "response = requests.get(url, params=params)"
   ]
  },
  {
   "cell_type": "markdown",
   "metadata": {},
   "source": []
  }
 ],
 "metadata": {
  "kernelspec": {
   "display_name": "venv",
   "language": "python",
   "name": "python3"
  },
  "language_info": {
   "codemirror_mode": {
    "name": "ipython",
    "version": 3
   },
   "file_extension": ".py",
   "mimetype": "text/x-python",
   "name": "python",
   "nbconvert_exporter": "python",
   "pygments_lexer": "ipython3",
   "version": "3.11.7"
  }
 },
 "nbformat": 4,
 "nbformat_minor": 2
}
